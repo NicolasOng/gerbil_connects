{
 "cells": [
  {
   "cell_type": "code",
   "execution_count": 1,
   "metadata": {},
   "outputs": [],
   "source": [
    "import pickle"
   ]
  },
  {
   "cell_type": "code",
   "execution_count": 2,
   "metadata": {},
   "outputs": [],
   "source": [
    "with open(\"2023-11-08 ebert.pkl\", 'rb') as file:\n",
    "    # Load the content of the file into a Python object\n",
    "    ebert = pickle.load(file)"
   ]
  },
  {
   "cell_type": "code",
   "execution_count": 3,
   "metadata": {},
   "outputs": [
    {
     "name": "stdout",
     "output_type": "stream",
     "text": [
      "578\n"
     ]
    }
   ],
   "source": [
    "print(len(ebert))"
   ]
  },
  {
   "cell_type": "code",
   "execution_count": 7,
   "metadata": {},
   "outputs": [
    {
     "name": "stdout",
     "output_type": "stream",
     "text": [
      "(\"SOCCER - JAPAN GET LUCKY WIN, CHINA IN SURPRISE DEFEAT. Nadim Ladki AL-AIN, United Arab Emirates 1996-12-06 Japan began the defence of their Asian Cup title with a lucky 2-1 win against Syria in a Group C championship match on Friday. But China saw their luck desert them in the second match of the group, crashing to a surprise 2-0 defeat to newcomers Uzbekistan. China controlled most of the match and saw several chances missed until the 78th minute when Uzbek striker Igor Shkvyrin took advantage of a misdirected defensive header to lob the ball over the advancing Chinese keeper and into an empty net. Oleg Shatskiku made sure of the win in injury time, hitting an unstoppable left foot shot from just outside the area. The former Soviet republic was playing in an Asian Cup finals tie for the first time. Despite winning the Asian Games title two years ago, Uzbekistan are in the finals as outsiders. Two goals from defensive errors in the last six minutes allowed Japan to come from behind and collect all three points from their opening meeting against Syria. Takuya Takagi scored the winner in the 88th minute, rising to head a Hiroshige Yanagimoto cross towards the Syrian goal which goalkeeper Salem Bitar appeared to have covered but then allowed to slip into the net. It was the second costly blunder by Syria in four minutes. Defender Hassan Abbas rose to intercept a long ball into the area in the 84th minute but only managed to divert it into the top corner of Bitar's goal. Nader Jokhadar had given Syria the lead with a well-struck header in the seventh minute. Japan then laid siege to the Syrian penalty area for most of the game but rarely breached the Syrian defence. Bitar pulled off fine saves whenever they did. Japan coach Shu Kamo said : ' ' The Syrian own goal proved lucky for us. The Syrians scored early and then played defensively and adopted long balls which made it hard for us. ' ' Japan, co-hosts of the World Cup in 2002 and ranked 20th in the world by FIFA, are favourites to regain their title here. Hosts UAE play Kuwait and South Korea take on Indonesia on Saturday in Group A matches. All four teams are level with one point each from one game.\", [(76, 96, 'Yemen'), (608, 622, \"United_States_men's_national_soccer_team\"), (1493, 1507, 'United_Arab_Emirates_national_football_team'), (472, 485, 'UEFA_Euro_1992'), (365, 370, 'Syria_national_football_team'), (1206, 1217, 'Syria_national_football_team'), (1479, 1484, 'Syria_national_football_team'), (1518, 1523, 'Syria_national_football_team'), (30, 47, 'Syria'), (1177, 1183, 'Syria'), (1611, 1617, 'Syria'), (737, 743, 'Soviet_Union'), (1647, 1662, 'Saudi_Arabia'), (1683, 1690, 'Saudi_Arabia'), (1692, 1697, 'Saudi_Arabia'), (1698, 1704, 'Saudi_Arabia'), (1709, 1713, 'Saudi_Arabia'), (1714, 1719, 'Saudi_Arabia'), (1737, 1738, 'Saudi_Arabia'), (1745, 1750, 'Saudi_Arabia'), (1751, 1754, 'Saudi_Arabia'), (1755, 1759, 'Saudi_Arabia'), (1760, 1764, 'Saudi_Arabia'), (1069, 1082, \"United_States_men's_national_soccer_team\"), (1062, 1067, 'Syria_national_football_team'), (1318, 1323, 'Syria_national_football_team'), (1676, 1682, 'Saudi_Arabia'), (1775, 1797, 'Saudi_Arabia'), (1798, 1803, 'Saudi_Arabia'), (1810, 1811, 'Saudi_Arabia'), (1812, 1815, 'Saudi_Arabia'), (1816, 1823, 'Saudi_Arabia'), (1824, 1830, 'Saudi_Arabia'), (1831, 1836, 'Saudi_Arabia'), (1846, 1876, 'Saudi_Arabia'), (1877, 1881, 'Saudi_Arabia'), (1882, 1887, 'Saudi_Arabia'), (1902, 1906, 'Saudi_Arabia'), (1913, 1924, 'Saudi_Arabia'), (1926, 1934, 'Saudi_Arabia'), (1942, 1947, 'Saudi_Arabia'), (1948, 1951, 'Saudi_Arabia'), (1955, 1959, 'Saudi_Arabia'), (1964, 1970, 'Saudi_Arabia'), (1971, 1975, 'Saudi_Arabia'), (1983, 1988, 'Saudi_Arabia'), (1992, 1996, 'Saudi_Arabia'), (2002, 2034, 'Saudi_Arabia'), (2039, 2040, 'Saudi_Arabia'), (2041, 2046, 'Saudi_Arabia'), (2047, 2050, 'Saudi_Arabia'), (1350, 1362, 'Syria_national_football_team'), (2051, 2072, 'Saudi_Arabia'), (2073, 2078, 'Saudi_Arabia'), (2087, 2108, 'Saudi_Arabia'), (2112, 2117, 'Saudi_Arabia'), (2118, 2119, 'Saudi_Arabia'), (2120, 2127, 'Saudi_Arabia'), (2127, 2128, 'Saudi_Arabia'), (2129, 2132, 'Saudi_Arabia'), (2138, 2143, 'Saudi_Arabia'), (2148, 2153, 'Saudi_Arabia'), (2163, 2168, 'Saudi_Arabia'), (2183, 2188, 'Saudi_Arabia'), (458, 463, 'Russia'), (9, 28, 'Japan_national_football_team'), (108, 113, 'Japan_national_football_team'), (186, 191, 'Japan_national_football_team'), (239, 244, 'Japan_national_football_team'), (865, 875, 'Japan_national_football_team'), (972, 977, 'Japan_national_football_team'), (1582, 1587, 'Japan_national_football_team'), (570, 577, 'Japan'), (1138, 1158, 'Honduras_national_football_team'), (56, 74, 'Damascus'), (353, 363, 'Azerbaijan_national_football_team'), (141, 150, 'AFC_Asian_Cup'), (771, 780, 'AFC_Asian_Cup'), (832, 843, 'AFC_Asian_Cup')])\n"
     ]
    }
   ],
   "source": [
    "print(list(ebert.items())[0])"
   ]
  },
  {
   "cell_type": "code",
   "execution_count": null,
   "metadata": {},
   "outputs": [],
   "source": [
    "# pickle files are dicts.\n",
    "# key = document text\n",
    "# values = list of (76, 96, 'Yemen')\n",
    "\n",
    "'''\n",
    "I have:\n",
    "{document text: [(76, 96, 'Yemen'), ...], ...}\n",
    "want to convert to:\n",
    "{\"annotations\": [{\"text\": document text here, \"value\": [{'start': 76, 'end': 96, 'tag': 'http://en.wikipedia.org/wiki/Yemen'}, ] }...]}\n",
    "'''"
   ]
  },
  {
   "cell_type": "code",
   "execution_count": 11,
   "metadata": {},
   "outputs": [],
   "source": [
    "def doct_to_json(dict_annotations):\n",
    "    base_url = \"http://en.wikipedia.org/wiki/\"\n",
    "\n",
    "    json_annotations = []\n",
    "    for doc_text, annotations in dict_annotations.items():\n",
    "        json_doc = {}\n",
    "        json_doc[\"text\"] = doc_text\n",
    "        json_doc[\"value\"] = []\n",
    "        for anno in annotations:\n",
    "            json_doc[\"value\"].append({'start': anno[0], 'end': anno[1], 'tag': base_url + anno[2]})\n",
    "        json_annotations.append(json_doc)\n",
    "    return {\"annotations\": json_annotations}"
   ]
  },
  {
   "cell_type": "code",
   "execution_count": 9,
   "metadata": {},
   "outputs": [],
   "source": [
    "import json\n",
    "def save_json_file(data, file_name):\n",
    "    with open(file_name, 'w', encoding='utf-8') as file:\n",
    "        json.dump(data, file, ensure_ascii=False, indent=4)"
   ]
  },
  {
   "cell_type": "code",
   "execution_count": 12,
   "metadata": {},
   "outputs": [],
   "source": [
    "ebert_json = doct_to_json(ebert)\n",
    "save_json_file(ebert_json, \"2023-12-14 ebert.json\")"
   ]
  },
  {
   "cell_type": "code",
   "execution_count": 13,
   "metadata": {},
   "outputs": [],
   "source": [
    "with open(\"2023-11-08 eeebert.pkl\", 'rb') as file:\n",
    "    # Load the content of the file into a Python object\n",
    "    eeebert = pickle.load(file)"
   ]
  },
  {
   "cell_type": "code",
   "execution_count": 14,
   "metadata": {},
   "outputs": [],
   "source": [
    "eeebert_json = doct_to_json(eeebert)\n",
    "save_json_file(eeebert_json, \"2023-12-14 eeebert.json\")"
   ]
  }
 ],
 "metadata": {
  "kernelspec": {
   "display_name": "myenv1",
   "language": "python",
   "name": "python3"
  },
  "language_info": {
   "codemirror_mode": {
    "name": "ipython",
    "version": 3
   },
   "file_extension": ".py",
   "mimetype": "text/x-python",
   "name": "python",
   "nbconvert_exporter": "python",
   "pygments_lexer": "ipython3",
   "version": "3.10.12"
  }
 },
 "nbformat": 4,
 "nbformat_minor": 2
}
